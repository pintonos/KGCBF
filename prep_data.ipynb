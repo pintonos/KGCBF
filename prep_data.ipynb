{
 "cells": [
  {
   "cell_type": "code",
   "execution_count": 86,
   "metadata": {
    "pycharm": {
     "name": "#%%\n"
    }
   },
   "outputs": [],
   "source": [
    "import rdflib\n",
    "from rdflib import Graph, URIRef, Literal, BNode\n",
    "from rdflib.namespace import FOAF, RDF, SDO, RDFS, OWL, DC\n",
    "\n",
    "import os\n",
    "from tqdm import tqdm\n",
    "\n",
    "import sqlparse"
   ]
  },
  {
   "cell_type": "code",
   "execution_count": 7,
   "metadata": {
    "pycharm": {
     "name": "#%%\n"
    }
   },
   "outputs": [
    {
     "name": "stderr",
     "output_type": "stream",
     "text": [
      "  0%|          | 0/1000 [00:00<?, ?it/s]tel:- +33-4-92-38-79-83--  does not look like a valid URI, trying to serialize this will break.\n",
      "http://xmlns.com/foaf/0.1/Nova Spivack's Ryze Business Networking Page does not look like a valid URI, trying to serialize this will break.\n",
      "Amazon.com: Listmania! Buddhist and Bonpo Dzogchen Meditation does not look like a valid URI, trying to serialize this will break.\n",
      "KDnuggets: Data Mining, Web Mining, and Knowledge Discovery Guide does not look like a valid URI, trying to serialize this will break.\n",
      "http://xmlns.com/foaf/0.1/Philosophy of mind - Wikipedia does not look like a valid URI, trying to serialize this will break.\n",
      "CiteSeer: The NEC Research Institute Scientific Literature Digital Library does not look like a valid URI, trying to serialize this will break.\n",
      "Amazon.com: Listmania! The Semantic Web: XML, Internet, RDF, AI, Ontologies & KM does not look like a valid URI, trying to serialize this will break.\n",
      "http://xmlns.com/foaf/0.1/      W3C Semantic Web     does not look like a valid URI, trying to serialize this will break.\n",
      "http://xmlns.com/foaf/0.1/The Global Consciousness Project -- Do Global Events Affect Random Number Generators? does not look like a valid URI, trying to serialize this will break.\n",
      "http://xmlns.com/foaf/0.1/Principia Cybernetica -- the Global Brain Group does not look like a valid URI, trying to serialize this will break.\n",
      "http://xmlns.com/foaf/0.1/Minding the Planet --  www.mindingtheplanet.net does not look like a valid URI, trying to serialize this will break.\n",
      "http://xmlns.com/foaf/0.1/Lucid Ventures does not look like a valid URI, trying to serialize this will break.\n",
      "http://xmlns.com/foaf/0.1/Radar Networks does not look like a valid URI, trying to serialize this will break.\n",
      " 70%|██████▉   | 697/1000 [02:05<00:42,  7.07it/s]http://xmlns.com/foaf/0.1/none  does not look like a valid URI, trying to serialize this will break.\n",
      "100%|██████████| 1000/1000 [03:55<00:00,  4.25it/s]\n"
     ]
    },
    {
     "data": {
      "text/plain": [
       "<Graph identifier=N550ab359e49642f19330e822d891a5b1 (<class 'rdflib.graph.Graph'>)>"
      ]
     },
     "execution_count": 7,
     "metadata": {},
     "output_type": "execute_result"
    }
   ],
   "source": [
    "global_graph = Graph()\n",
    "# https://data.mendeley.com/datasets/zp23s23xpb/1\n",
    "input_folder = \"dump/soler/\"\n",
    "for filename in tqdm(os.listdir(input_folder)[:1000]):\n",
    "    f = os.path.join(input_folder, filename)\n",
    "    try:\n",
    "        g1 = Graph().parse(f, format='xml')\n",
    "\n",
    "        #check for literals\n",
    "        for s, p, o in g1:\n",
    "            if not rdflib.term._is_valid_uri(o):\n",
    "                g1.set((s, p, Literal(o)))\n",
    "             \n",
    "        global_graph = global_graph + g1\n",
    "        \n",
    "    except:\n",
    "        continue\n",
    "\n",
    "global_graph.serialize(destination=\"datasets/soler.ttl\", format=\"turtle\")"
   ]
  },
  {
   "cell_type": "code",
   "execution_count": 6,
   "metadata": {
    "pycharm": {
     "name": "#%%\n"
    }
   },
   "outputs": [
    {
     "name": "stderr",
     "output_type": "stream",
     "text": [
      "202271it [03:35, 937.10it/s] \n"
     ]
    },
    {
     "data": {
      "text/plain": [
       "<Graph identifier=N6c93408c686b4d37bc7dbd32778c2edd (<class 'rdflib.graph.Graph'>)>"
      ]
     },
     "execution_count": 6,
     "metadata": {},
     "output_type": "execute_result"
    }
   ],
   "source": [
    "# https://ebiquity.umbc.edu/resource/html/id/82/foafPub-dataset\n",
    "g = Graph()\n",
    "g.bind(\"foaf\", FOAF)\n",
    "g.bind(\"dc\", DC)\n",
    "\n",
    "with open(\"dump/foaf_pub/triple_person.sql\") as file:\n",
    "    for i, line in enumerate(tqdm(file)):\n",
    "        try:\n",
    "            parsed = sqlparse.parse(line)[0]\n",
    "            values = str(parsed.tokens[-3])[9:-1].split(',')\n",
    "\n",
    "            subject = values[5][1:-1]\n",
    "            predicate = values[4][1:-1]\n",
    "            object = values[3][1:-1]\n",
    "\n",
    "            #check all uris\n",
    "            if not (rdflib.term._is_valid_uri(subject) and rdflib.term._is_valid_uri(predicate)):\n",
    "                continue\n",
    "\n",
    "            subject = URIRef(subject)\n",
    "            predicate = URIRef(predicate)\n",
    "\n",
    "            # check if literal\n",
    "            if not rdflib.term._is_valid_uri(object):\n",
    "                object = Literal(object)\n",
    "            else:\n",
    "                object = URIRef(object)\n",
    "            \n",
    "            g.add((subject, predicate, object))\n",
    "        except:\n",
    "            continue\n",
    "\n",
    "        #if i > 9000:\n",
    "        #    break\n",
    "\n",
    "g.serialize(destination=\"datasets/foaf_pub.ttl\", format=\"turtle\")"
   ]
  },
  {
   "cell_type": "code",
   "execution_count": 2,
   "metadata": {
    "pycharm": {
     "name": "#%%\n"
    }
   },
   "outputs": [
    {
     "name": "stderr",
     "output_type": "stream",
     "text": [
      "100%|██████████| 10/10 [08:07<00:00, 48.76s/it]\n"
     ]
    },
    {
     "data": {
      "text/plain": [
       "<Graph identifier=N69273402929b4a4db1c1336595cc3783 (<class 'rdflib.graph.Graph'>)>"
      ]
     },
     "execution_count": 2,
     "metadata": {},
     "output_type": "execute_result"
    }
   ],
   "source": [
    "# FactBench\n",
    "# https://github.com/DeFacto/FactBench\n",
    "global_graph = Graph()\n",
    "input_folder = \"dump/FactBench/\"\n",
    "for folder in tqdm(os.listdir(input_folder)):\n",
    "    folder = os.path.join(input_folder, folder)\n",
    "    for filename in os.listdir(folder):\n",
    "        f = os.path.join(folder, filename)\n",
    "        try:\n",
    "            g1 = Graph().parse(f, format='ttl')\n",
    "                \n",
    "            global_graph = global_graph + g1\n",
    "            \n",
    "        except:\n",
    "            continue\n",
    "\n",
    "global_graph.serialize(destination=\"datasets/factbench.ttl\", format=\"turtle\")"
   ]
  },
  {
   "cell_type": "code",
   "execution_count": 1,
   "metadata": {
    "pycharm": {
     "name": "#%%\n"
    }
   },
   "outputs": [
    {
     "data": {
      "text/plain": [
       "<Graph identifier=N0a76a50148ca4dbd90d1a3e84f6814da (<class 'rdflib.graph.ConjunctiveGraph'>)>"
      ]
     },
     "execution_count": 1,
     "metadata": {},
     "output_type": "execute_result"
    }
   ],
   "source": [
    "from SPARQLWrapper import SPARQLWrapper, RDFXML\n",
    "from rdflib import Graph\n",
    "\n",
    "sparql = SPARQLWrapper(\"http://dbpedia.org/sparql\") # use this endpoint for higher timeout\n",
    "\n",
    "# https://gist.github.com/tomsaleeba/ff8e145b3efd1127e48baa6512df24e2\n",
    "sparql.setQuery(\"\"\"\n",
    "    PREFIX dbpedia: <http://dbpedia.org/resource/>\n",
    "    PREFIX dbpedia-owl: <http://dbpedia.org/ontology/>\n",
    "    CONSTRUCT {\n",
    "        ?actor ?p1 ?o1 .\n",
    "        ?s2 ?p2 ?actor .\n",
    "        ?movie ?p3 ?o2 .\n",
    "        ?s3 ?p4 ?movie .\n",
    "    }\n",
    "    WHERE {\n",
    "        ?actor ?p1 ?o1 {\n",
    "            SELECT ?actor, ?movie\n",
    "            WHERE {\n",
    "                ?movie dbpedia-owl:starring ?actor .\n",
    "            } \n",
    "            order by asc(UCASE(str(?actor)))\n",
    "            LIMIT 10 # set graph size with this, to high results in partial result only, because of timeout\n",
    "        } .\n",
    "        ?s2 ?p2 ?actor FILTER (?p2 NOT IN (dbo:wikiPageWikiLink, dbo:wikiPageRedirects)) . \n",
    "\n",
    "        ?movie ?p3 ?o2 FILTER (?p3 NOT IN (dbo:wikiPageWikiLink, dbo:wikiPageRedirects)) . \n",
    "        ?s3 ?p4 ?movie FILTER (?p4 NOT IN (dbo:wikiPageWikiLink, dbo:wikiPageRedirects)) . \n",
    "    }\n",
    "\"\"\")\n",
    "\n",
    "sparql.setReturnFormat(RDFXML)\n",
    "results = sparql.query().convert()\n",
    "results.serialize(destination=\"datasets/dbpedia.ttl\", format=\"turtle\")"
   ]
  },
  {
   "cell_type": "code",
   "execution_count": 115,
   "outputs": [
    {
     "data": {
      "text/plain": "{'head': {'link': [], 'vars': ['actor', 'movie']},\n 'results': {'distinct': False,\n  'ordered': True,\n  'bindings': [{'actor': {'type': 'uri',\n     'value': 'http://dbpedia.org/resource/Helena_Bergström'},\n    'movie': {'type': 'uri',\n     'value': 'http://dbpedia.org/resource/1939_(film)'}},\n   {'actor': {'type': 'uri',\n     'value': 'http://dbpedia.org/resource/Helene_Egelund'},\n    'movie': {'type': 'uri',\n     'value': 'http://dbpedia.org/resource/1939_(film)'}},\n   {'actor': {'type': 'uri',\n     'value': 'http://dbpedia.org/resource/Per_Morberg'},\n    'movie': {'type': 'uri',\n     'value': 'http://dbpedia.org/resource/1939_(film)'}},\n   {'actor': {'type': 'uri',\n     'value': 'http://dbpedia.org/resource/Rallapalli_(actor)'},\n    'movie': {'type': 'uri',\n     'value': 'http://dbpedia.org/resource/1940_Lo_Oka_Gramam'}},\n   {'actor': {'type': 'uri',\n     'value': 'http://dbpedia.org/resource/Ramakrishna_(Kannada_actor)'},\n    'movie': {'type': 'uri',\n     'value': 'http://dbpedia.org/resource/1940_Lo_Oka_Gramam'}},\n   {'actor': {'type': 'uri',\n     'value': 'http://dbpedia.org/resource/Mukku_Raju'},\n    'movie': {'type': 'uri',\n     'value': 'http://dbpedia.org/resource/1940_Lo_Oka_Gramam'}},\n   {'actor': {'type': 'uri', 'value': 'http://dbpedia.org/resource/Rajitha'},\n    'movie': {'type': 'uri',\n     'value': 'http://dbpedia.org/resource/1940_Lo_Oka_Gramam'}},\n   {'actor': {'type': 'uri',\n     'value': 'http://dbpedia.org/resource/Baladitya_(actor)'},\n    'movie': {'type': 'uri',\n     'value': 'http://dbpedia.org/resource/1940_Lo_Oka_Gramam'}},\n   {'actor': {'type': 'uri',\n     'value': 'http://dbpedia.org/resource/Kaspar_Velberg'},\n    'movie': {'type': 'uri',\n     'value': 'http://dbpedia.org/resource/1944_(film)'}},\n   {'actor': {'type': 'uri',\n     'value': 'http://dbpedia.org/resource/Kristjan_Üksküla'},\n    'movie': {'type': 'uri',\n     'value': 'http://dbpedia.org/resource/1944_(film)'}},\n   {'actor': {'type': 'uri',\n     'value': 'http://dbpedia.org/resource/Maiken_Schmidt'},\n    'movie': {'type': 'uri',\n     'value': 'http://dbpedia.org/resource/1944_(film)'}},\n   {'actor': {'type': 'uri',\n     'value': 'http://dbpedia.org/resource/Rana_Daggubati'},\n    'movie': {'type': 'uri',\n     'value': 'http://dbpedia.org/resource/1945_(2022_film)'}},\n   {'actor': {'type': 'uri',\n     'value': 'http://dbpedia.org/resource/Regina_Cassandra'},\n    'movie': {'type': 'uri',\n     'value': 'http://dbpedia.org/resource/1945_(2022_film)'}},\n   {'actor': {'type': 'uri', 'value': 'http://dbpedia.org/resource/Sathyaraj'},\n    'movie': {'type': 'uri',\n     'value': 'http://dbpedia.org/resource/1945_(2022_film)'}},\n   {'actor': {'type': 'uri',\n     'value': 'http://dbpedia.org/resource/Nassar_(actor)'},\n    'movie': {'type': 'uri',\n     'value': 'http://dbpedia.org/resource/1945_(2022_film)'}},\n   {'actor': {'type': 'uri',\n     'value': 'http://dbpedia.org/resource/Maya_Karin'},\n    'movie': {'type': 'uri',\n     'value': 'http://dbpedia.org/resource/1957:_Hati_Malaya'}},\n   {'actor': {'type': 'uri',\n     'value': 'http://dbpedia.org/resource/Sharifah_Amani'},\n    'movie': {'type': 'uri',\n     'value': 'http://dbpedia.org/resource/1957:_Hati_Malaya'}},\n   {'actor': {'type': 'uri',\n     'value': 'http://dbpedia.org/resource/Rusdi_Ramli'},\n    'movie': {'type': 'uri',\n     'value': 'http://dbpedia.org/resource/1957:_Hati_Malaya'}},\n   {'actor': {'type': 'uri',\n     'value': 'http://dbpedia.org/resource/Akash_Thosar'},\n    'movie': {'type': 'uri',\n     'value': 'http://dbpedia.org/resource/1962:_The_War_in_the_Hills'}},\n   {'actor': {'type': 'uri',\n     'value': 'http://dbpedia.org/resource/Indian_Idol'},\n    'movie': {'type': 'uri',\n     'value': 'http://dbpedia.org/resource/1962:_The_War_in_the_Hills'}},\n   {'actor': {'type': 'uri',\n     'value': 'http://dbpedia.org/resource/Abhay_Deol'},\n    'movie': {'type': 'uri',\n     'value': 'http://dbpedia.org/resource/1962:_The_War_in_the_Hills'}},\n   {'actor': {'type': 'uri',\n     'value': 'http://dbpedia.org/resource/Sumeet_Vyas'},\n    'movie': {'type': 'uri',\n     'value': 'http://dbpedia.org/resource/1962:_The_War_in_the_Hills'}},\n   {'actor': {'type': 'uri',\n     'value': 'http://dbpedia.org/resource/Mahie_Gill'},\n    'movie': {'type': 'uri',\n     'value': 'http://dbpedia.org/resource/1962:_The_War_in_the_Hills'}},\n   {'actor': {'type': 'uri',\n     'value': 'http://dbpedia.org/resource/Rohan_Gandotra'},\n    'movie': {'type': 'uri',\n     'value': 'http://dbpedia.org/resource/1962:_The_War_in_the_Hills'}},\n   {'actor': {'type': 'uri',\n     'value': 'http://dbpedia.org/resource/Joanne_Peh'},\n    'movie': {'type': 'uri',\n     'value': 'http://dbpedia.org/resource/1965_(film)'}},\n   {'actor': {'type': 'uri',\n     'value': 'http://dbpedia.org/resource/Lim_Kay_Tong'},\n    'movie': {'type': 'uri',\n     'value': 'http://dbpedia.org/resource/1965_(film)'}},\n   {'actor': {'type': 'uri', 'value': 'http://dbpedia.org/resource/Qi_Yuwu'},\n    'movie': {'type': 'uri',\n     'value': 'http://dbpedia.org/resource/1965_(film)'}},\n   {'actor': {'type': 'uri',\n     'value': 'http://dbpedia.org/resource/Sezairi_Sezali'},\n    'movie': {'type': 'uri',\n     'value': 'http://dbpedia.org/resource/1965_(film)'}},\n   {'actor': {'type': 'uri',\n     'value': 'http://dbpedia.org/resource/Mike_Kasem'},\n    'movie': {'type': 'uri',\n     'value': 'http://dbpedia.org/resource/1965_(film)'}},\n   {'actor': {'type': 'uri',\n     'value': 'http://dbpedia.org/resource/Antonis_Kafetzopoulos'},\n    'movie': {'type': 'uri',\n     'value': 'http://dbpedia.org/resource/1968_(film)'}},\n   {'actor': {'type': 'uri',\n     'value': 'http://dbpedia.org/resource/Giorgos_Mitsikostas'},\n    'movie': {'type': 'uri',\n     'value': 'http://dbpedia.org/resource/1968_(film)'}},\n   {'actor': {'type': 'uri',\n     'value': 'http://dbpedia.org/resource/Errikos_Litsis'},\n    'movie': {'type': 'uri',\n     'value': 'http://dbpedia.org/resource/1968_(film)'}},\n   {'actor': {'type': 'uri',\n     'value': 'http://dbpedia.org/resource/Stelios_Mainas'},\n    'movie': {'type': 'uri',\n     'value': 'http://dbpedia.org/resource/1968_(film)'}},\n   {'actor': {'type': 'uri',\n     'value': 'http://dbpedia.org/resource/Ieroklis_Michailidis'},\n    'movie': {'type': 'uri',\n     'value': 'http://dbpedia.org/resource/1968_(film)'}},\n   {'actor': {'type': 'uri',\n     'value': 'http://dbpedia.org/resource/Mariette_Hartley'},\n    'movie': {'type': 'uri',\n     'value': 'http://dbpedia.org/resource/1969_(film)'}},\n   {'actor': {'type': 'uri',\n     'value': 'http://dbpedia.org/resource/Bruce_Dern'},\n    'movie': {'type': 'uri',\n     'value': 'http://dbpedia.org/resource/1969_(film)'}},\n   {'actor': {'type': 'uri',\n     'value': 'http://dbpedia.org/resource/Kiefer_Sutherland'},\n    'movie': {'type': 'uri',\n     'value': 'http://dbpedia.org/resource/1969_(film)'}},\n   {'actor': {'type': 'uri',\n     'value': 'http://dbpedia.org/resource/Robert_Downey_Jr.'},\n    'movie': {'type': 'uri',\n     'value': 'http://dbpedia.org/resource/1969_(film)'}},\n   {'actor': {'type': 'uri',\n     'value': 'http://dbpedia.org/resource/Joanna_Cassidy'},\n    'movie': {'type': 'uri',\n     'value': 'http://dbpedia.org/resource/1969_(film)'}},\n   {'actor': {'type': 'uri',\n     'value': 'http://dbpedia.org/resource/Winona_Ryder'},\n    'movie': {'type': 'uri',\n     'value': 'http://dbpedia.org/resource/1969_(film)'}},\n   {'actor': {'type': 'uri',\n     'value': 'http://dbpedia.org/resource/Allu_Sirish'},\n    'movie': {'type': 'uri',\n     'value': 'http://dbpedia.org/resource/1971:_Beyond_Borders'}},\n   {'actor': {'type': 'uri',\n     'value': 'http://dbpedia.org/resource/Arunoday_Singh'},\n    'movie': {'type': 'uri',\n     'value': 'http://dbpedia.org/resource/1971:_Beyond_Borders'}},\n   {'actor': {'type': 'uri', 'value': 'http://dbpedia.org/resource/Mohanlal'},\n    'movie': {'type': 'uri',\n     'value': 'http://dbpedia.org/resource/1971:_Beyond_Borders'}},\n   {'actor': {'type': 'uri',\n     'value': 'http://dbpedia.org/resource/Vivek_Mishra'},\n    'movie': {'type': 'uri',\n     'value': 'http://dbpedia.org/resource/1971_(2007_film)'}},\n   {'actor': {'type': 'uri',\n     'value': 'http://dbpedia.org/resource/Kumud_Mishra'},\n    'movie': {'type': 'uri',\n     'value': 'http://dbpedia.org/resource/1971_(2007_film)'}},\n   {'actor': {'type': 'uri',\n     'value': 'http://dbpedia.org/resource/Deepak_Dobriyal'},\n    'movie': {'type': 'uri',\n     'value': 'http://dbpedia.org/resource/1971_(2007_film)'}},\n   {'actor': {'type': 'uri',\n     'value': 'http://dbpedia.org/resource/Piyush_Mishra'},\n    'movie': {'type': 'uri',\n     'value': 'http://dbpedia.org/resource/1971_(2007_film)'}},\n   {'actor': {'type': 'uri',\n     'value': 'http://dbpedia.org/resource/Ravi_Kishan'},\n    'movie': {'type': 'uri',\n     'value': 'http://dbpedia.org/resource/1971_(2007_film)'}},\n   {'actor': {'type': 'uri',\n     'value': 'http://dbpedia.org/resource/Chittaranjan_Giri'},\n    'movie': {'type': 'uri',\n     'value': 'http://dbpedia.org/resource/1971_(2007_film)'}},\n   {'actor': {'type': 'uri',\n     'value': 'http://dbpedia.org/resource/Manav_Kaul'},\n    'movie': {'type': 'uri',\n     'value': 'http://dbpedia.org/resource/1971_(2007_film)'}},\n   {'actor': {'type': 'uri',\n     'value': 'http://dbpedia.org/resource/Manoj_Bajpayee'},\n    'movie': {'type': 'uri',\n     'value': 'http://dbpedia.org/resource/1971_(2007_film)'}},\n   {'actor': {'type': 'uri',\n     'value': 'http://dbpedia.org/resource/Ali_(actor)'},\n    'movie': {'type': 'uri',\n     'value': 'http://dbpedia.org/resource/Alitho_Saradaga'}},\n   {'actor': {'type': 'uri',\n     'value': 'http://dbpedia.org/resource/Raghu_Karumanchi'},\n    'movie': {'type': 'uri',\n     'value': 'http://dbpedia.org/resource/Alitho_Saradaga'}},\n   {'actor': {'type': 'uri',\n     'value': 'http://dbpedia.org/resource/Simo_Frangén'},\n    'movie': {'type': 'uri',\n     'value': 'http://dbpedia.org/resource/Alivaltiosihteeri_valvoo'}},\n   {'actor': {'type': 'uri',\n     'value': 'http://dbpedia.org/resource/Pasi_Heikura'},\n    'movie': {'type': 'uri',\n     'value': 'http://dbpedia.org/resource/Alivaltiosihteeri_valvoo'}},\n   {'actor': {'type': 'uri',\n     'value': 'http://dbpedia.org/resource/Jyrki_Liikka'},\n    'movie': {'type': 'uri',\n     'value': 'http://dbpedia.org/resource/Alivaltiosihteeri_valvoo'}},\n   {'actor': {'type': 'uri',\n     'value': 'http://dbpedia.org/resource/Matti_Toivonen'},\n    'movie': {'type': 'uri',\n     'value': 'http://dbpedia.org/resource/Alivaltiosihteeri_valvoo'}},\n   {'actor': {'type': 'uri',\n     'value': 'http://dbpedia.org/resource/Vincent_Spano'},\n    'movie': {'type': 'uri',\n     'value': 'http://dbpedia.org/resource/Alive_(1993_film)'}},\n   {'actor': {'type': 'uri',\n     'value': 'http://dbpedia.org/resource/Ethan_Hawke'},\n    'movie': {'type': 'uri',\n     'value': 'http://dbpedia.org/resource/Alive_(1993_film)'}},\n   {'actor': {'type': 'uri',\n     'value': 'http://dbpedia.org/resource/Josh_Hamilton_(actor)'},\n    'movie': {'type': 'uri',\n     'value': 'http://dbpedia.org/resource/Alive_(1993_film)'}},\n   {'actor': {'type': 'uri',\n     'value': 'http://dbpedia.org/resource/Tak_Sakaguchi'},\n    'movie': {'type': 'uri',\n     'value': 'http://dbpedia.org/resource/Alive_(2002_film)'}},\n   {'actor': {'type': 'uri',\n     'value': 'http://dbpedia.org/resource/Hideo_Sakaki'},\n    'movie': {'type': 'uri',\n     'value': 'http://dbpedia.org/resource/Alive_(2002_film)'}},\n   {'actor': {'type': 'uri',\n     'value': 'http://dbpedia.org/resource/Andrei_Chadov'},\n    'movie': {'type': 'uri',\n     'value': 'http://dbpedia.org/resource/Alive_(2006_film)'}},\n   {'actor': {'type': 'uri',\n     'value': 'http://dbpedia.org/resource/Lee_Seung-yeon_(actress,_born_1977)'},\n    'movie': {'type': 'uri',\n     'value': 'http://dbpedia.org/resource/Alive_(2014_film)'}},\n   {'actor': {'type': 'uri',\n     'value': 'http://dbpedia.org/resource/Park_Jung-bum'},\n    'movie': {'type': 'uri',\n     'value': 'http://dbpedia.org/resource/Alive_(2014_film)'}},\n   {'actor': {'type': 'uri',\n     'value': 'http://dbpedia.org/resource/James_Gandolfini'},\n    'movie': {'type': 'uri',\n     'value': 'http://dbpedia.org/resource/Alive_Day_Memories'}},\n   {'actor': {'type': 'uri',\n     'value': 'http://dbpedia.org/resource/Sybil_Thorndike'},\n    'movie': {'type': 'uri',\n     'value': 'http://dbpedia.org/resource/Alive_and_Kicking_(1959_film)'}},\n   {'actor': {'type': 'uri',\n     'value': 'http://dbpedia.org/resource/Stanley_Holloway'},\n    'movie': {'type': 'uri',\n     'value': 'http://dbpedia.org/resource/Alive_and_Kicking_(1959_film)'}},\n   {'actor': {'type': 'uri',\n     'value': 'http://dbpedia.org/resource/Estelle_Winwood'},\n    'movie': {'type': 'uri',\n     'value': 'http://dbpedia.org/resource/Alive_and_Kicking_(1959_film)'}},\n   {'actor': {'type': 'uri',\n     'value': 'http://dbpedia.org/resource/Kathleen_Harrison'},\n    'movie': {'type': 'uri',\n     'value': 'http://dbpedia.org/resource/Alive_and_Kicking_(1959_film)'}},\n   {'actor': {'type': 'uri',\n     'value': 'http://dbpedia.org/resource/Dawn_Hampton'},\n    'movie': {'type': 'uri',\n     'value': 'http://dbpedia.org/resource/Alive_and_Kicking_(2016_film)'}},\n   {'actor': {'type': 'uri',\n     'value': 'http://dbpedia.org/resource/Frankie_Manning'},\n    'movie': {'type': 'uri',\n     'value': 'http://dbpedia.org/resource/Alive_and_Kicking_(2016_film)'}},\n   {'actor': {'type': 'uri',\n     'value': 'http://dbpedia.org/resource/Norma_Miller'},\n    'movie': {'type': 'uri',\n     'value': 'http://dbpedia.org/resource/Alive_and_Kicking_(2016_film)'}},\n   {'actor': {'type': 'uri',\n     'value': 'http://dbpedia.org/resource/Miki_Esparbé'},\n    'movie': {'type': 'uri',\n     'value': 'http://dbpedia.org/resource/Alive_and_Kicking_(TV_series)'}},\n   {'actor': {'type': 'uri',\n     'value': 'http://dbpedia.org/resource/Abel_Ferrara'},\n    'movie': {'type': 'uri',\n     'value': 'http://dbpedia.org/resource/Alive_in_France'}},\n   {'actor': {'type': 'uri',\n     'value': 'http://dbpedia.org/resource/Adèle_Haenel'},\n    'movie': {'type': 'uri',\n     'value': 'http://dbpedia.org/resource/Aliyah_(2012_film)'}},\n   {'actor': {'type': 'uri',\n     'value': 'http://dbpedia.org/resource/Cédric_Kahn'},\n    'movie': {'type': 'uri',\n     'value': 'http://dbpedia.org/resource/Aliyah_(2012_film)'}},\n   {'actor': {'type': 'uri',\n     'value': 'http://dbpedia.org/resource/Gurumayum_Bonny'},\n    'movie': {'type': 'uri',\n     'value': 'http://dbpedia.org/resource/Aliyah_(2018_film)'}},\n   {'actor': {'type': 'uri',\n     'value': 'http://dbpedia.org/resource/Aliyan_vs_Aliyan'},\n    'movie': {'type': 'uri',\n     'value': 'http://dbpedia.org/resource/Aliyan_vs_Aliyan'}},\n   {'actor': {'type': 'uri',\n     'value': 'http://dbpedia.org/resource/Augustus_Carney'},\n    'movie': {'type': 'uri',\n     'value': \"http://dbpedia.org/resource/Alkali_Ike's_Auto\"}},\n   {'actor': {'type': 'uri',\n     'value': 'http://dbpedia.org/resource/Harry_Todd'},\n    'movie': {'type': 'uri',\n     'value': \"http://dbpedia.org/resource/Alkali_Ike's_Auto\"}},\n   {'actor': {'type': 'uri',\n     'value': 'http://dbpedia.org/resource/Bernadette_Peters'},\n    'movie': {'type': 'uri',\n     'value': \"http://dbpedia.org/resource/All's_Fair\"}},\n   {'actor': {'type': 'uri',\n     'value': 'http://dbpedia.org/resource/Richard_Crenna'},\n    'movie': {'type': 'uri',\n     'value': \"http://dbpedia.org/resource/All's_Fair\"}},\n   {'actor': {'type': 'uri',\n     'value': 'http://dbpedia.org/resource/Michael_Keaton'},\n    'movie': {'type': 'uri',\n     'value': \"http://dbpedia.org/resource/All's_Fair\"}},\n   {'actor': {'type': 'uri',\n     'value': 'http://dbpedia.org/resource/George_Segal'},\n    'movie': {'type': 'uri',\n     'value': \"http://dbpedia.org/resource/All's_Fair_(film)\"}},\n   {'actor': {'type': 'uri',\n     'value': 'http://dbpedia.org/resource/Sally_Kellerman'},\n    'movie': {'type': 'uri',\n     'value': \"http://dbpedia.org/resource/All's_Fair_(film)\"}},\n   {'actor': {'type': 'uri',\n     'value': 'http://dbpedia.org/resource/Jane_Kaczmarek'},\n    'movie': {'type': 'uri',\n     'value': \"http://dbpedia.org/resource/All's_Fair_(film)\"}},\n   {'actor': {'type': 'uri',\n     'value': 'http://dbpedia.org/resource/John_Kapelos'},\n    'movie': {'type': 'uri',\n     'value': \"http://dbpedia.org/resource/All's_Fair_(film)\"}},\n   {'actor': {'type': 'uri',\n     'value': 'http://dbpedia.org/resource/Robert_Carradine'},\n    'movie': {'type': 'uri',\n     'value': \"http://dbpedia.org/resource/All's_Fair_(film)\"}},\n   {'actor': {'type': 'uri',\n     'value': 'http://dbpedia.org/resource/Jennifer_Edwards'},\n    'movie': {'type': 'uri',\n     'value': \"http://dbpedia.org/resource/All's_Fair_(film)\"}},\n   {'actor': {'type': 'uri',\n     'value': 'http://dbpedia.org/resource/Lou_Ferrigno'},\n    'movie': {'type': 'uri',\n     'value': \"http://dbpedia.org/resource/All's_Fair_(film)\"}},\n   {'actor': {'type': 'uri',\n     'value': 'http://dbpedia.org/resource/Margie_Hines'},\n    'movie': {'type': 'uri',\n     'value': \"http://dbpedia.org/resource/All's_Fair_at_the_Fair\"}},\n   {'actor': {'type': 'uri',\n     'value': 'http://dbpedia.org/resource/Jack_Mercer'},\n    'movie': {'type': 'uri',\n     'value': \"http://dbpedia.org/resource/All's_Fair_at_the_Fair\"}},\n   {'actor': {'type': 'uri',\n     'value': 'http://dbpedia.org/resource/Ann-Margret'},\n    'movie': {'type': 'uri',\n     'value': \"http://dbpedia.org/resource/All's_Faire_in_Love\"}},\n   {'actor': {'type': 'uri',\n     'value': 'http://dbpedia.org/resource/Martin_Klebba'},\n    'movie': {'type': 'uri',\n     'value': \"http://dbpedia.org/resource/All's_Faire_in_Love\"}},\n   {'actor': {'type': 'uri',\n     'value': 'http://dbpedia.org/resource/Matthew_Lillard'},\n    'movie': {'type': 'uri',\n     'value': \"http://dbpedia.org/resource/All's_Faire_in_Love\"}},\n   {'actor': {'type': 'uri',\n     'value': 'http://dbpedia.org/resource/Cedric_the_Entertainer'},\n    'movie': {'type': 'uri',\n     'value': \"http://dbpedia.org/resource/All's_Faire_in_Love\"}},\n   {'actor': {'type': 'uri',\n     'value': 'http://dbpedia.org/resource/Chris_Wylde'},\n    'movie': {'type': 'uri',\n     'value': \"http://dbpedia.org/resource/All's_Faire_in_Love\"}},\n   {'actor': {'type': 'uri',\n     'value': 'http://dbpedia.org/resource/Christina_Ricci'},\n    'movie': {'type': 'uri',\n     'value': \"http://dbpedia.org/resource/All's_Faire_in_Love\"}},\n   {'actor': {'type': 'uri',\n     'value': 'http://dbpedia.org/resource/Louise_Griffiths'},\n    'movie': {'type': 'uri',\n     'value': \"http://dbpedia.org/resource/All's_Faire_in_Love\"}}]}}"
     },
     "execution_count": 115,
     "metadata": {},
     "output_type": "execute_result"
    }
   ],
   "source": [
    "# https://gist.github.com/tomsaleeba/ff8e145b3efd1127e48baa6512df24e2\n",
    "\n",
    "from SPARQLWrapper import SPARQLWrapper, RDFXML, JSON, TURTLE, XML\n",
    "from rdflib import Graph\n",
    "\n",
    "sparql = SPARQLWrapper(\"http://dbpedia.org/sparql\") # use this endpoint for higher timeout\n",
    "\n",
    "sparql.setQuery(\"\"\"\n",
    "    PREFIX dbpedia: <http://dbpedia.org/resource/>\n",
    "    PREFIX dbpedia-owl: <http://dbpedia.org/ontology/>\n",
    "    SELECT ?actor, ?movie\n",
    "    WHERE {\n",
    "        ?movie dbpedia-owl:starring ?actor .\n",
    "    }\n",
    "    #order by asc(UCASE(str(?actor)))\n",
    "    LIMIT 100 # set graph size with this\n",
    "\"\"\")\n",
    "\n",
    "sparql.setReturnFormat(JSON)\n",
    "actors_movies = sparql.queryAndConvert()\n",
    "actors_movies"
   ],
   "metadata": {
    "collapsed": false,
    "pycharm": {
     "name": "#%%\n"
    }
   }
  },
  {
   "cell_type": "code",
   "execution_count": 116,
   "outputs": [
    {
     "name": "stderr",
     "output_type": "stream",
     "text": [
      "100%|██████████| 100/100 [01:23<00:00,  1.20it/s]\n",
      "100%|██████████| 30/30 [01:19<00:00,  2.64s/it]\n"
     ]
    },
    {
     "data": {
      "text/plain": "<Graph identifier=Nf6058d6319584d7fa33c3568b95816e6 (<class 'rdflib.graph.Graph'>)>"
     },
     "execution_count": 116,
     "metadata": {},
     "output_type": "execute_result"
    }
   ],
   "source": [
    "g = Graph()\n",
    "\n",
    "for a_m in tqdm(actors_movies[\"results\"][\"bindings\"]):\n",
    "    actor = a_m['actor']['value'].rsplit('/', 1)[1]\n",
    "    sparql.setQuery(\"\"\"\n",
    "        PREFIX dbpedia: <http://dbpedia.org/resource/>\n",
    "        PREFIX dbpedia-owl: <http://dbpedia.org/ontology/>\n",
    "        CONSTRUCT {\n",
    "            dbpedia:\"\"\" + actor + \"\"\" ?p1 ?o1 .\n",
    "            ?s2 ?p2 dbpedia:\"\"\" + actor + \"\"\" .\n",
    "        }\n",
    "        WHERE {\n",
    "            dbpedia:\"\"\" + actor + \"\"\" ?p1 ?o1 .\n",
    "            ?s2 ?p2 dbpedia:\"\"\" + actor + \"\"\" FILTER (?p2 NOT IN (dbo:wikiPageWikiLink, dbo:wikiPageRedirects, foaf:primaryTopic)) .\n",
    "        }\n",
    "    \"\"\")\n",
    "    sparql.setReturnFormat(TURTLE)\n",
    "    try:\n",
    "        results = sparql.query().convert()\n",
    "        g = g + Graph().parse(data=results, format=\"turtle\")\n",
    "        g.add((URIRef(\"http://dbpedia.org/resource/\" + actor), RDF.type, URIRef(\"http://dbpedia.org/ontology/Actor\")))\n",
    "    except:\n",
    "        continue\n",
    "\n",
    "unique_movies = set([m['movie']['value'].rsplit('/', 1)[1].replace(\"(\", \"\\(\").replace(\")\", \"\\)\") for m in actors_movies[\"results\"][\"bindings\"]])\n",
    "for movie in tqdm(unique_movies):\n",
    "    sparql.setQuery(\"\"\"\n",
    "        PREFIX dbpedia: <http://dbpedia.org/resource/>\n",
    "        PREFIX dbpedia-owl: <http://dbpedia.org/ontology/>\n",
    "        CONSTRUCT {\n",
    "            dbpedia:\"\"\" + movie + \"\"\" ?p3 ?o2 .\n",
    "            #?s3 ?p4  dbpedia:\"\"\" + movie + \"\"\" .\n",
    "        }\n",
    "        WHERE {\n",
    "            dbpedia:\"\"\" + movie + \"\"\" ?p3 ?o2 FILTER (?p3 NOT IN (dbo:wikiPageWikiLink, dbo:wikiPageRedirects)) .\n",
    "            #?s3 ?p4  dbpedia:\"\"\" + movie + \"\"\" FILTER (?p4 NOT IN (dbo:wikiPageWikiLink, dbo:wikiPageRedirects)) .\n",
    "        }\n",
    "    \"\"\")\n",
    "\n",
    "    sparql.setReturnFormat(TURTLE)\n",
    "    try:\n",
    "        results = sparql.query().convert()\n",
    "        g = g + Graph().parse(data=results, format=\"turtle\")\n",
    "    except:\n",
    "        continue\n",
    "\n",
    "g.bind(\"rdfs\", RDFS)\n",
    "g.add((URIRef(\"http://dbpedia.org/ontology/starring\"), RDFS.domain, URIRef(\"http://dbpedia.org/ontology/work\")))\n",
    "g.add((URIRef(\"http://dbpedia.org/ontology/starring\"), RDFS.range, URIRef(\"http://dbpedia.org/ontology/Actor\")))\n",
    "g.serialize(destination=\"datasets/dbpedia.ttl\", format=\"turtle\")"
   ],
   "metadata": {
    "collapsed": false,
    "pycharm": {
     "name": "#%%\n"
    }
   }
  }
 ],
 "metadata": {
  "kernelspec": {
   "display_name": "Python 3.8.15 ('KGCBF-cQLkdcMc')",
   "language": "python",
   "name": "python3"
  },
  "language_info": {
   "codemirror_mode": {
    "name": "ipython",
    "version": 3
   },
   "file_extension": ".py",
   "mimetype": "text/x-python",
   "name": "python",
   "nbconvert_exporter": "python",
   "pygments_lexer": "ipython3",
   "version": "3.8.15"
  },
  "vscode": {
   "interpreter": {
    "hash": "f8bfd446e2a19bd040c95f5f5a15a05621c0560a00fa151173051a38d1940c30"
   }
  }
 },
 "nbformat": 4,
 "nbformat_minor": 4
}