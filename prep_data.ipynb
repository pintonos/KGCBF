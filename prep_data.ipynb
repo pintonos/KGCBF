{
 "cells": [
  {
   "cell_type": "code",
   "execution_count": 5,
   "metadata": {},
   "outputs": [],
   "source": [
    "import rdflib\n",
    "from rdflib import Graph, URIRef, Literal, BNode\n",
    "from rdflib.namespace import FOAF, RDF, SDO, RDFS, OWL, DC\n",
    "\n",
    "import os\n",
    "from tqdm import tqdm\n",
    "\n",
    "import sqlparse"
   ]
  },
  {
   "cell_type": "code",
   "execution_count": 10,
   "metadata": {},
   "outputs": [
    {
     "name": "stderr",
     "output_type": "stream",
     "text": [
      "100%|██████████| 100/100 [00:09<00:00, 10.34it/s]\n"
     ]
    },
    {
     "data": {
      "text/plain": [
       "<Graph identifier=N8f8b75c9b8674f0ebb50db3fce9db1bb (<class 'rdflib.graph.Graph'>)>"
      ]
     },
     "execution_count": 10,
     "metadata": {},
     "output_type": "execute_result"
    }
   ],
   "source": [
    "global_graph = Graph()\n",
    "# https://data.mendeley.com/datasets/zp23s23xpb/1\n",
    "input_folder = \"dump/soler/\"\n",
    "for filename in tqdm(os.listdir(input_folder)[:100]):\n",
    "    f = os.path.join(input_folder, filename)\n",
    "    try:\n",
    "        g1 = Graph().parse(f, format='xml')\n",
    "        global_graph = global_graph + g1\n",
    "        \n",
    "    except:\n",
    "        continue\n",
    "\n",
    "global_graph.serialize(destination=\"data/soler.ttl\", format=\"turtle\")"
   ]
  },
  {
   "cell_type": "code",
   "execution_count": 9,
   "metadata": {},
   "outputs": [
    {
     "name": "stderr",
     "output_type": "stream",
     "text": [
      "1001it [00:05, 189.07it/s]\n"
     ]
    },
    {
     "data": {
      "text/plain": [
       "<Graph identifier=Nbe930150f49c41169bb453831ed29938 (<class 'rdflib.graph.Graph'>)>"
      ]
     },
     "execution_count": 9,
     "metadata": {},
     "output_type": "execute_result"
    }
   ],
   "source": [
    "# https://ebiquity.umbc.edu/resource/html/id/82/foafPub-dataset\n",
    "g = Graph()\n",
    "g.bind(\"foaf\", FOAF)\n",
    "g.bind(\"dc\", DC)\n",
    "\n",
    "with open(\"dump/foaf_pub/triple_person.sql\") as file:\n",
    "    for i, line in enumerate(tqdm(file)):\n",
    "        parsed = sqlparse.parse(line)[0]\n",
    "        try:\n",
    "            values = str(parsed.tokens[-3])[9:-1].split(',')\n",
    "            subject = URIRef(values[5][1:-1])\n",
    "            predicate = URIRef(values[4][1:-1])\n",
    "            # check if literal\n",
    "            if values[2] == '1':\n",
    "                object = Literal(values[3][1:-1])\n",
    "            else:\n",
    "                object = URIRef(values[3][1:-1])\n",
    "\n",
    "                #check uris\n",
    "                if not (rdflib.term._is_valid_uri(subject) and rdflib.term._is_valid_uri(object)):\n",
    "                    continue\n",
    "            \n",
    "            g.add((subject, predicate, object))\n",
    "        except:\n",
    "            continue\n",
    "\n",
    "        if i > 1000:\n",
    "            break\n",
    "\n",
    "g.serialize(destination=\"data/foaf_pub.ttl\", format=\"turtle\")"
   ]
  }
 ],
 "metadata": {
  "kernelspec": {
   "display_name": "Python 3.8.15 ('KGCBF-cQLkdcMc')",
   "language": "python",
   "name": "python3"
  },
  "language_info": {
   "codemirror_mode": {
    "name": "ipython",
    "version": 3
   },
   "file_extension": ".py",
   "mimetype": "text/x-python",
   "name": "python",
   "nbconvert_exporter": "python",
   "pygments_lexer": "ipython3",
   "version": "3.8.15"
  },
  "vscode": {
   "interpreter": {
    "hash": "f8bfd446e2a19bd040c95f5f5a15a05621c0560a00fa151173051a38d1940c30"
   }
  }
 },
 "nbformat": 4,
 "nbformat_minor": 4
}
