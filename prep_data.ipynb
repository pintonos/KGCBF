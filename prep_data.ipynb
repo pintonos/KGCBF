{
 "cells": [
  {
   "cell_type": "code",
   "execution_count": 1,
   "metadata": {},
   "outputs": [],
   "source": [
    "import rdflib\n",
    "from rdflib import Graph, URIRef, Literal, BNode\n",
    "from rdflib.namespace import FOAF, RDF, SDO, RDFS, OWL, DC\n",
    "\n",
    "import os\n",
    "from tqdm import tqdm\n",
    "\n",
    "import sqlparse"
   ]
  },
  {
   "cell_type": "code",
   "execution_count": 7,
   "metadata": {},
   "outputs": [
    {
     "name": "stderr",
     "output_type": "stream",
     "text": [
      "  0%|          | 0/1000 [00:00<?, ?it/s]tel:- +33-4-92-38-79-83--  does not look like a valid URI, trying to serialize this will break.\n",
      "http://xmlns.com/foaf/0.1/Nova Spivack's Ryze Business Networking Page does not look like a valid URI, trying to serialize this will break.\n",
      "Amazon.com: Listmania! Buddhist and Bonpo Dzogchen Meditation does not look like a valid URI, trying to serialize this will break.\n",
      "KDnuggets: Data Mining, Web Mining, and Knowledge Discovery Guide does not look like a valid URI, trying to serialize this will break.\n",
      "http://xmlns.com/foaf/0.1/Philosophy of mind - Wikipedia does not look like a valid URI, trying to serialize this will break.\n",
      "CiteSeer: The NEC Research Institute Scientific Literature Digital Library does not look like a valid URI, trying to serialize this will break.\n",
      "Amazon.com: Listmania! The Semantic Web: XML, Internet, RDF, AI, Ontologies & KM does not look like a valid URI, trying to serialize this will break.\n",
      "http://xmlns.com/foaf/0.1/      W3C Semantic Web     does not look like a valid URI, trying to serialize this will break.\n",
      "http://xmlns.com/foaf/0.1/The Global Consciousness Project -- Do Global Events Affect Random Number Generators? does not look like a valid URI, trying to serialize this will break.\n",
      "http://xmlns.com/foaf/0.1/Principia Cybernetica -- the Global Brain Group does not look like a valid URI, trying to serialize this will break.\n",
      "http://xmlns.com/foaf/0.1/Minding the Planet --  www.mindingtheplanet.net does not look like a valid URI, trying to serialize this will break.\n",
      "http://xmlns.com/foaf/0.1/Lucid Ventures does not look like a valid URI, trying to serialize this will break.\n",
      "http://xmlns.com/foaf/0.1/Radar Networks does not look like a valid URI, trying to serialize this will break.\n",
      " 70%|██████▉   | 697/1000 [02:05<00:42,  7.07it/s]http://xmlns.com/foaf/0.1/none  does not look like a valid URI, trying to serialize this will break.\n",
      "100%|██████████| 1000/1000 [03:55<00:00,  4.25it/s]\n"
     ]
    },
    {
     "data": {
      "text/plain": [
       "<Graph identifier=N550ab359e49642f19330e822d891a5b1 (<class 'rdflib.graph.Graph'>)>"
      ]
     },
     "execution_count": 7,
     "metadata": {},
     "output_type": "execute_result"
    }
   ],
   "source": [
    "global_graph = Graph()\n",
    "# https://data.mendeley.com/datasets/zp23s23xpb/1\n",
    "input_folder = \"dump/soler/\"\n",
    "for filename in tqdm(os.listdir(input_folder)[:1000]):\n",
    "    f = os.path.join(input_folder, filename)\n",
    "    try:\n",
    "        g1 = Graph().parse(f, format='xml')\n",
    "\n",
    "        #check for literals\n",
    "        for s, p, o in g1:\n",
    "            if not rdflib.term._is_valid_uri(o):\n",
    "                g1.set((s, p, Literal(o)))\n",
    "             \n",
    "        global_graph = global_graph + g1\n",
    "        \n",
    "    except:\n",
    "        continue\n",
    "\n",
    "global_graph.serialize(destination=\"data/soler.ttl\", format=\"turtle\")"
   ]
  },
  {
   "cell_type": "code",
   "execution_count": 6,
   "metadata": {},
   "outputs": [
    {
     "name": "stderr",
     "output_type": "stream",
     "text": [
      "202271it [03:35, 937.10it/s] \n"
     ]
    },
    {
     "data": {
      "text/plain": [
       "<Graph identifier=N6c93408c686b4d37bc7dbd32778c2edd (<class 'rdflib.graph.Graph'>)>"
      ]
     },
     "execution_count": 6,
     "metadata": {},
     "output_type": "execute_result"
    }
   ],
   "source": [
    "# https://ebiquity.umbc.edu/resource/html/id/82/foafPub-dataset\n",
    "g = Graph()\n",
    "g.bind(\"foaf\", FOAF)\n",
    "g.bind(\"dc\", DC)\n",
    "\n",
    "with open(\"dump/foaf_pub/triple_person.sql\") as file:\n",
    "    for i, line in enumerate(tqdm(file)):\n",
    "        try:\n",
    "            parsed = sqlparse.parse(line)[0]\n",
    "            values = str(parsed.tokens[-3])[9:-1].split(',')\n",
    "\n",
    "            subject = values[5][1:-1]\n",
    "            predicate = values[4][1:-1]\n",
    "            object = values[3][1:-1]\n",
    "\n",
    "            #check all uris\n",
    "            if not (rdflib.term._is_valid_uri(subject) and rdflib.term._is_valid_uri(predicate)):\n",
    "                continue\n",
    "\n",
    "            subject = URIRef(subject)\n",
    "            predicate = URIRef(predicate)\n",
    "\n",
    "            # check if literal\n",
    "            if not rdflib.term._is_valid_uri(object):\n",
    "                object = Literal(object)\n",
    "            else:\n",
    "                object = URIRef(object)\n",
    "            \n",
    "            g.add((subject, predicate, object))\n",
    "        except:\n",
    "            continue\n",
    "\n",
    "        #if i > 9000:\n",
    "        #    break\n",
    "\n",
    "g.serialize(destination=\"data/foaf_pub.ttl\", format=\"turtle\")"
   ]
  },
  {
   "cell_type": "code",
   "execution_count": 2,
   "metadata": {},
   "outputs": [
    {
     "name": "stderr",
     "output_type": "stream",
     "text": [
      "100%|██████████| 10/10 [08:07<00:00, 48.76s/it]\n"
     ]
    },
    {
     "data": {
      "text/plain": [
       "<Graph identifier=N69273402929b4a4db1c1336595cc3783 (<class 'rdflib.graph.Graph'>)>"
      ]
     },
     "execution_count": 2,
     "metadata": {},
     "output_type": "execute_result"
    }
   ],
   "source": [
    "# FactBench\n",
    "# https://github.com/DeFacto/FactBench\n",
    "global_graph = Graph()\n",
    "input_folder = \"dump/FactBench/\"\n",
    "for folder in tqdm(os.listdir(input_folder)):\n",
    "    folder = os.path.join(input_folder, folder)\n",
    "    for filename in os.listdir(folder):\n",
    "        f = os.path.join(folder, filename)\n",
    "        try:\n",
    "            g1 = Graph().parse(f, format='ttl')\n",
    "                \n",
    "            global_graph = global_graph + g1\n",
    "            \n",
    "        except:\n",
    "            continue\n",
    "\n",
    "global_graph.serialize(destination=\"data/factbench.ttl\", format=\"turtle\")"
   ]
  }
 ],
 "metadata": {
  "kernelspec": {
   "display_name": "Python 3.8.15 ('KGCBF-cQLkdcMc')",
   "language": "python",
   "name": "python3"
  },
  "language_info": {
   "codemirror_mode": {
    "name": "ipython",
    "version": 3
   },
   "file_extension": ".py",
   "mimetype": "text/x-python",
   "name": "python",
   "nbconvert_exporter": "python",
   "pygments_lexer": "ipython3",
   "version": "3.8.15"
  },
  "vscode": {
   "interpreter": {
    "hash": "f8bfd446e2a19bd040c95f5f5a15a05621c0560a00fa151173051a38d1940c30"
   }
  }
 },
 "nbformat": 4,
 "nbformat_minor": 4
}
