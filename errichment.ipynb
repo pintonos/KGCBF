{
 "cells": [
  {
   "cell_type": "code",
   "execution_count": 1,
   "metadata": {},
   "outputs": [],
   "source": [
    "import rdflib\n",
    "from rdflib import Graph, URIRef, Literal, BNode\n",
    "from pandas import DataFrame\n",
    "from rdflib.plugins.sparql.processor import SPARQLResult, prepareQuery, prepareUpdate\n",
    "from rdflib.namespace import FOAF, RDF, SDO\n",
    "from rdflib.namespace import DefinedNamespace, Namespace\n",
    "from rdflib.term import URIRef\n",
    "\n",
    "import numpy as np\n",
    "from random import sample, choice"
   ]
  },
  {
   "cell_type": "code",
   "execution_count": 11,
   "metadata": {},
   "outputs": [],
   "source": [
    "def sparql_results_to_df(results: SPARQLResult) -> DataFrame:\n",
    "    \"\"\"\n",
    "    Export results from an rdflib SPARQL query into a `pandas.DataFrame`,\n",
    "    using Python types. See https://github.com/RDFLib/rdflib/issues/1179.\n",
    "    \"\"\"\n",
    "    return DataFrame(\n",
    "        data=([None if x is None else x.toPython() for x in row] for row in results),\n",
    "        columns=[str(x) for x in results.vars],\n",
    "    )"
   ]
  },
  {
   "cell_type": "code",
   "execution_count": 2,
   "metadata": {},
   "outputs": [],
   "source": [
    "class ErrorRDF(RDF):\n",
    "    _NS = Namespace(\"http://www.w3.org/1999/02/22-rdf-syntax-nsERROR#\")\n",
    "\n",
    "class ErrorFOAF(FOAF):\n",
    "    _NS = Namespace(\"http://xmlns.com/foaf/0.1/ERROR/\")\n",
    "\n",
    "class ErrorSDO(SDO):\n",
    "    _NS = Namespace(\"https://schema.org/ERROR/\")\n",
    "\n",
    "    Human: URIRef \n",
    "    HumAn: URIRef \n",
    "    homeAddress: URIRef\n",
    "    "
   ]
  },
  {
   "cell_type": "code",
   "execution_count": 17,
   "metadata": {},
   "outputs": [
    {
     "name": "stdout",
     "output_type": "stream",
     "text": [
      "@prefix error_foaf: <http://xmlns.com/foaf/0.1/ERROR/> .\n",
      "@prefix error_sdo: <https://schema.org/ERROR/> .\n",
      "@prefix foaf: <http://xmlns.com/foaf/0.1/> .\n",
      "@prefix xsd: <http://www.w3.org/2001/XMLSchema#> .\n",
      "\n",
      "<http://example.org/people/Bob> a foaf:Person ;\n",
      "    error_foaf:age 24 ;\n",
      "    foaf:knows <http://example.org/people/Linda> ;\n",
      "    foaf:name \"Bob\" .\n",
      "\n",
      "<http://exampleorg/Hans> a error_sdo:HumAn ;\n",
      "    error_sdo:name \"Hans\" .\n",
      "\n",
      "<http://example.org/people/Linda> a foaf:Person ;\n",
      "    foaf:name \"Linda\" .\n",
      "\n",
      "\n"
     ]
    }
   ],
   "source": [
    "g = Graph()\n",
    "g.bind(\"foaf\", FOAF)\n",
    "g.bind(\"error_foaf\", ErrorFOAF)\n",
    "g.bind(\"sdo\", SDO)\n",
    "g.bind(\"error_sdo\", ErrorSDO)\n",
    "\n",
    "bob = URIRef(\"http://example.org/people/Bob\")\n",
    "linda = URIRef(\"http://example.org/people/Linda\")\n",
    "error_hans = URIRef(\"http://exampleorg/Hans\")\n",
    "\n",
    "g.add((bob, RDF.type, FOAF.Person))\n",
    "g.add((bob, FOAF.name, Literal(\"Bob\")))\n",
    "g.add((bob, ErrorFOAF.age, Literal(24)))\n",
    "g.add((bob, FOAF.knows, linda))\n",
    "g.add((linda, RDF.type, FOAF.Person))\n",
    "g.add((linda, FOAF.name, Literal(\"Linda\")))\n",
    "g.add((error_hans, RDF.type, ErrorSDO.HumAn))\n",
    "g.add((error_hans, ErrorSDO.name, Literal(\"Hans\")))\n",
    "\n",
    "print(g.serialize())"
   ]
  },
  {
   "cell_type": "code",
   "execution_count": 30,
   "metadata": {},
   "outputs": [
    {
     "name": "stdout",
     "output_type": "stream",
     "text": [
      "@prefix error_foaf: <http://xmlns.com/foaf/0.1/ERROR/> .\n",
      "@prefix error_sdo: <https://schema.org/ERROR/> .\n",
      "@prefix foaf: <http://xmlns.com/foaf/0.1/> .\n",
      "@prefix xsd: <http://www.w3.org/2001/XMLSchema#> .\n",
      "\n",
      "<http://example.org/people/Bob> a foaf:Person ;\n",
      "    error_foaf:age 24 ;\n",
      "    foaf:knows <http://example.org/people/Linda> ;\n",
      "    foaf:name \"Bob\" .\n",
      "\n",
      "<http://exampleorg/Hans1> a error_sdo:HumAn ;\n",
      "    error_sdo:name \"Hans\" .\n",
      "\n",
      "<http://example.org/people/Linda> a foaf:Person ;\n",
      "    foaf:name \"Linda\" .\n",
      "\n",
      "\n"
     ]
    }
   ],
   "source": [
    "q = prepareUpdate(\n",
    "    \"\"\"DELETE {\n",
    "        ?source_id ?p ?o .\n",
    "    }\n",
    "    INSERT { \n",
    "        ?target_id ?p ?o . \n",
    "    }\n",
    "    WHERE {\n",
    "        ?source_id ?p ?o .\n",
    "    }\"\"\"\n",
    ")\n",
    "g.update(q, initBindings={'source_id': rdflib.URIRef(\"http://exampleorg/Hans\"), 'target_id': rdflib.URIRef(\"http://exampleorg/Hans1\")})\n",
    "print(g.serialize())"
   ]
  },
  {
   "cell_type": "code",
   "execution_count": 22,
   "metadata": {},
   "outputs": [
    {
     "name": "stdout",
     "output_type": "stream",
     "text": [
      "http://exampleorg/Hans\n",
      "http://example.org/people/Bob\n",
      "http://example.org/people/Linda\n"
     ]
    },
    {
     "data": {
      "text/html": [
       "<div>\n",
       "<style scoped>\n",
       "    .dataframe tbody tr th:only-of-type {\n",
       "        vertical-align: middle;\n",
       "    }\n",
       "\n",
       "    .dataframe tbody tr th {\n",
       "        vertical-align: top;\n",
       "    }\n",
       "\n",
       "    .dataframe thead th {\n",
       "        text-align: right;\n",
       "    }\n",
       "</style>\n",
       "<table border=\"1\" class=\"dataframe\">\n",
       "  <thead>\n",
       "    <tr style=\"text-align: right;\">\n",
       "      <th></th>\n",
       "      <th>s</th>\n",
       "    </tr>\n",
       "  </thead>\n",
       "  <tbody>\n",
       "    <tr>\n",
       "      <th>0</th>\n",
       "      <td>http://exampleorg/Hans</td>\n",
       "    </tr>\n",
       "    <tr>\n",
       "      <th>1</th>\n",
       "      <td>http://example.org/people/Bob</td>\n",
       "    </tr>\n",
       "    <tr>\n",
       "      <th>2</th>\n",
       "      <td>http://example.org/people/Linda</td>\n",
       "    </tr>\n",
       "  </tbody>\n",
       "</table>\n",
       "</div>"
      ],
      "text/plain": [
       "                                 s\n",
       "0           http://exampleorg/Hans\n",
       "1    http://example.org/people/Bob\n",
       "2  http://example.org/people/Linda"
      ]
     },
     "execution_count": 22,
     "metadata": {},
     "output_type": "execute_result"
    }
   ],
   "source": [
    "qres = g.query(\n",
    "        \"\"\"\n",
    "        SELECT DISTINCT ?s\n",
    "        WHERE {\n",
    "            ?s ?p ?o .\n",
    "        }\n",
    "        \"\"\"\n",
    "    )\n",
    "\n",
    "for row in qres:\n",
    "    print(f\"{row.s}\")\n",
    "\n",
    "sparql_results_to_df(qres)"
   ]
  },
  {
   "cell_type": "code",
   "execution_count": null,
   "metadata": {},
   "outputs": [
    {
     "name": "stdout",
     "output_type": "stream",
     "text": [
      "@prefix error_foaf: <http://xmlns.com/foaf/0.1/ERROR/> .\n",
      "@prefix error_sdo: <https://schema.org/ERROR/> .\n",
      "@prefix foaf: <http://xmlns.com/foaf/0.1/> .\n",
      "@prefix xsd: <http://www.w3.org/2001/XMLSchema#> .\n",
      "\n",
      "<http://example.org/people/Bob> a foaf:Person ;\n",
      "    error_foaf:age 24 ;\n",
      "    foaf:knows <http://example.org/people/Linda> ;\n",
      "    foaf:name \"Bob\" .\n",
      "\n",
      "<http://example.org/people/Linda1> a foaf:Person .\n",
      "\n",
      "<http://exampleorg/Hans> a error_sdo:HumAn ;\n",
      "    error_sdo:name \"Hans\" .\n",
      "\n",
      "<http://example.org/people/Linda> foaf:name \"Linda\" .\n",
      "\n",
      "\n"
     ]
    }
   ],
   "source": [
    "g.update(\n",
    "        \"\"\"\n",
    "        PREFIX foaf: <http://xmlns.com/foaf/0.1/>\n",
    "        PREFIX error_foaf: <http://xmlns.com/foaf/0.1/ERROR/>\n",
    "        PREFIX ex: <http://example.org/people/>\n",
    "        DELETE {\n",
    "            ex:Linda a ?o .\n",
    "        }\n",
    "        INSERT { \n",
    "            ex:Linda1 a ?o . \n",
    "        }\n",
    "        WHERE {\n",
    "            ex:Linda a ?o .\n",
    "        }\n",
    "        \"\"\"\n",
    "    )\n",
    "\n",
    "print(g.serialize())"
   ]
  },
  {
   "cell_type": "code",
   "execution_count": null,
   "metadata": {},
   "outputs": [
    {
     "name": "stdout",
     "output_type": "stream",
     "text": [
      "@prefix error_foaf: <http://xmlns.com/foaf/0.1/ERROR/> .\n",
      "@prefix error_sdo: <https://schema.org/ERROR/> .\n",
      "@prefix foaf: <http://xmlns.com/foaf/0.1/> .\n",
      "@prefix xsd: <http://www.w3.org/2001/XMLSchema#> .\n",
      "\n",
      "<http://example.org/people/Bob> a foaf:Person ;\n",
      "    error_foaf:age 24 ;\n",
      "    error_foaf:knows <http://example.org/people/Linda> ;\n",
      "    foaf:name \"Bob\" .\n",
      "\n",
      "<http://example.org/people/Linda1> a foaf:Person .\n",
      "\n",
      "<http://exampleorg/Hans> a error_sdo:HumAn ;\n",
      "    error_sdo:name \"Hans\" .\n",
      "\n",
      "<http://example.org/people/Linda> foaf:name \"Linda\" .\n",
      "\n",
      "\n"
     ]
    }
   ],
   "source": [
    "g.update(\n",
    "        \"\"\"\n",
    "        PREFIX foaf: <http://xmlns.com/foaf/0.1/>\n",
    "        PREFIX error_foaf: <http://xmlns.com/foaf/0.1/ERROR/>\n",
    "        DELETE { \n",
    "            ?s foaf:knows ?o . \n",
    "        }\n",
    "        INSERT { \n",
    "            ?s error_foaf:knows ?o . \n",
    "        }\n",
    "        WHERE {\n",
    "            ?s foaf:knows ?o .\n",
    "        }\n",
    "        \"\"\"\n",
    "    )\n",
    "print(g.serialize())"
   ]
  },
  {
   "cell_type": "code",
   "execution_count": null,
   "metadata": {},
   "outputs": [
    {
     "name": "stdout",
     "output_type": "stream",
     "text": [
      "@prefix error_foaf: <http://xmlns.com/foaf/0.1/ERROR/> .\n",
      "@prefix error_sdo: <https://schema.org/ERROR/> .\n",
      "@prefix foaf: <http://xmlns.com/foaf/0.1/> .\n",
      "@prefix xsd: <http://www.w3.org/2001/XMLSchema#> .\n",
      "\n",
      "<http://example.org/people/Bob> a error_foaf:Human ;\n",
      "    error_foaf:age 24 ;\n",
      "    error_foaf:knows <http://example.org/people/Linda> ;\n",
      "    foaf:name \"Bob\" .\n",
      "\n",
      "<http://example.org/people/Linda1> a error_foaf:Human .\n",
      "\n",
      "<http://exampleorg/Hans> a error_sdo:HumAn ;\n",
      "    error_sdo:name \"Hans\" .\n",
      "\n",
      "<http://example.org/people/Linda> foaf:name \"Linda\" .\n",
      "\n",
      "\n"
     ]
    }
   ],
   "source": [
    "g.update(\n",
    "        \"\"\"\n",
    "        PREFIX foaf: <http://xmlns.com/foaf/0.1/>\n",
    "        PREFIX error_foaf: <http://xmlns.com/foaf/0.1/ERROR/>\n",
    "        DELETE {\n",
    "            ?s a foaf:Person .\n",
    "        }\n",
    "        INSERT { \n",
    "            ?s a error_foaf:Human . \n",
    "        }\n",
    "        WHERE {\n",
    "            ?s a foaf:Person .\n",
    "        }\n",
    "        \"\"\"\n",
    "    )\n",
    "\n",
    "print(g.serialize())"
   ]
  },
  {
   "cell_type": "code",
   "execution_count": null,
   "metadata": {},
   "outputs": [
    {
     "data": {
      "text/plain": [
       "'@prefix error_foaf: <http://xmlns.com/foaf/0.1/ERROR/> .\\n@prefix error_sdo: <https://schema.org/ERROR/> .\\n@prefix foaf: <http://xmlns.com/foaf/0.1/> .\\n@prefix xsd: <http://www.w3.org/2001/XMLSchema#> Ö\\n\\n<http://example.org/people/Bob> a error_foaf:Human ;\\n    error_foaf:age 24 Ä\\n    error_foaf:knows <http://example.org/people/Linda> Ä\\n    foaf:name \"Bob\" .\\n\\n<http://example.org/people/Linda1> a error_foaf:Human .\\n\\n<http://exampleorg/Hans> a error_sdo:HumAn ;\\n    error_sdo:name \"Hans\" .\\n\\n<http://example.org/people/Linda> foaf:name \"Linda\" Ö\\n\\n'"
      ]
     },
     "execution_count": 39,
     "metadata": {},
     "output_type": "execute_result"
    }
   ],
   "source": [
    "semicolon_pos = [pos for pos, char in enumerate(str(g.serialize())) if char == ';']\n",
    "dot_pos = [pos for pos, char in enumerate(str(g.serialize())) if char == '.']\n",
    "str_arr = np.array(list(str(g.serialize())))\n",
    "str_arr[sample(semicolon_pos, 2)] = 'Ä'\n",
    "str_arr[sample(dot_pos, 2)] = 'Ö'\n",
    "str(\"\".join(str_arr))"
   ]
  },
  {
   "cell_type": "code",
   "execution_count": null,
   "metadata": {},
   "outputs": [
    {
     "data": {
      "text/plain": [
       "'q = prepareUpdate(\\n    \"INSERT DATA { <?person1> foaf:knows <?person2> .}\",\\n    initNs = { \"foaf\": FOAF }\\n)\\n\\ntim = rdflib.URIRef(\"http://www.w3.org/People/Berners-Lee/card#i\")\\ng.update(q, initBindings={\\'person1\\': tim, \\'person2\\': bob})\\n\\nprint(g.serialize())'"
      ]
     },
     "execution_count": 40,
     "metadata": {},
     "output_type": "execute_result"
    }
   ],
   "source": [
    "'''q = prepareUpdate(\n",
    "    \"INSERT DATA { <?person1> foaf:knows <?person2> .}\",\n",
    "    initNs = { \"foaf\": FOAF }\n",
    ")\n",
    "\n",
    "tim = rdflib.URIRef(\"http://www.w3.org/People/Berners-Lee/card#i\")\n",
    "g.update(q, initBindings={'person1': tim, 'person2': bob})\n",
    "\n",
    "print(g.serialize())'''"
   ]
  },
  {
   "cell_type": "code",
   "execution_count": null,
   "metadata": {},
   "outputs": [
    {
     "name": "stdout",
     "output_type": "stream",
     "text": [
      "https://www.w3.org/People/Berners-Lee/card#i http://schema.org/owns https://timblbot.inrupt.net/profile/card#me\n",
      "n325869575d3c4a2f9443876df2c6556db5 http://www.w3.org/2006/vcard/ns#postal-code 02139\n",
      "https://www.w3.org/People/Berners-Lee/card#i http://xmlns.com/foaf/0.1/img https://www.w3.org/Press/Stock/Berners-Lee/2001-europaeum-eighth.jpg\n",
      "http://www.w3.org/People/Berners-Lee/card http://xmlns.com/foaf/0.1/maker https://www.w3.org/People/Berners-Lee/card#i\n",
      "http://dig.csail.mit.edu/2005/ajar/ajaw/data#Tabulator http://usefulinc.com/ns/doap#developer https://www.w3.org/People/Berners-Lee/card#i\n",
      "https://www.w3.org/People/Berners-Lee/card#i http://xmlns.com/foaf/0.1/account http://www.reddit.com/user/timbl/\n",
      "https://www.w3.org/People/Berners-Lee/card#i http://www.w3.org/2000/10/swap/pim/contact#assistant https://www.w3.org/People/Berners-Lee/card#amy\n",
      "n325869575d3c4a2f9443876df2c6556db5 http://www.w3.org/1999/02/22-rdf-syntax-ns#type http://www.w3.org/2006/vcard/ns#Work\n",
      "https://www.w3.org/People/Berners-Lee/card#i http://www.w3.org/2006/vcard/ns#hasAddress n325869575d3c4a2f9443876df2c6556db5\n",
      "https://www.w3.org/People/Berners-Lee/card#i http://www.w3.org/2000/10/swap/pim/contact#publicHomePage http://www.w3.org/People/Berners-Lee/\n",
      "https://www.w3.org/People/Berners-Lee/card#i http://xmlns.com/foaf/0.1/openid https://www.w3.org/People/Berners-Lee/\n",
      "n325869575d3c4a2f9443876df2c6556db2 http://www.w3.org/2000/10/swap/pim/contact#address n325869575d3c4a2f9443876df2c6556db3\n",
      "https://www.w3.org/People/Berners-Lee/card#i http://xmlns.com/foaf/0.1/account http://twitter.com/timberners_lee\n",
      "http://www.w3.org/2000/10/swap/data#Cwm http://usefulinc.com/ns/doap#developer https://www.w3.org/People/Berners-Lee/card#i\n",
      "http://www.ecs.soton.ac.uk/~dt2/dlstuff/www2006_data#panel-panelk01 http://www.w3.org/2000/10/swap/pim/contact#participant https://www.w3.org/People/Berners-Lee/card#i\n",
      "https://timbl.com/timbl/Public/friends.ttl http://xmlns.com/foaf/0.1/primaryTopic https://www.w3.org/People/Berners-Lee/card#i\n",
      "n325869575d3c4a2f9443876df2c6556db4 http://www.w3.org/2003/01/geo/wgs84_pos#lat 42.361860\n",
      "https://www.w3.org/People/Berners-Lee/card#i http://xmlns.com/foaf/0.1/family_name Berners-Lee\n",
      "https://www.w3.org/People/Berners-Lee/card#i http://www.w3.org/1999/02/22-rdf-syntax-ns#type http://xmlns.com/foaf/0.1/Person\n",
      "n325869575d3c4a2f9443876df2c6556db2 http://www.w3.org/2003/01/geo/wgs84_pos#location n325869575d3c4a2f9443876df2c6556db4\n",
      "http://dig.csail.mit.edu/breadcrumbs/blog/4 http://www.w3.org/2000/01/rdf-schema#seeAlso http://dig.csail.mit.edu/breadcrumbs/blog/feed/4\n",
      "http://dig.csail.mit.edu/breadcrumbs/blog/4 http://xmlns.com/foaf/0.1/maker https://www.w3.org/People/Berners-Lee/card#i\n",
      "n325869575d3c4a2f9443876df2c6556db6 http://www.w3.org/2003/01/geo/wgs84_pos#long -71.091840\n",
      "http://wiki.ontoworld.org/index.php/_IRW2006 http://www.w3.org/2000/10/swap/pim/contact#participant https://www.w3.org/People/Berners-Lee/card#i\n",
      "http://www.ecs.soton.ac.uk/~dt2/dlstuff/www2006_data#panel-panelk01 http://www.w3.org/2000/01/rdf-schema#label The Next Wave of the Web (Plenary Panel)\n",
      "n325869575d3c4a2f9443876df2c6556db1 http://www.w3.org/1999/02/22-rdf-syntax-ns#type http://www.w3.org/ns/auth/cert#RSAPublicKey\n",
      "https://www.w3.org/People/Berners-Lee/card#i http://rdfs.org/sioc/ns#avatar http://www.w3.org/People/Berners-Lee/images/timbl-image-by-Coz-cropped.jpg\n",
      "n325869575d3c4a2f9443876df2c6556db5 http://www.w3.org/2006/vcard/ns#locality Cambridge\n",
      "http://www.w3.org/data#W3C http://xmlns.com/foaf/0.1/member https://www.w3.org/People/Berners-Lee/card#i\n",
      "http://dig.csail.mit.edu/2007/01/camp/data#course http://xmlns.com/foaf/0.1/maker https://www.w3.org/People/Berners-Lee/card#i\n",
      "n325869575d3c4a2f9443876df2c6556db3 http://www.w3.org/2000/10/swap/pim/contact#city Cambridge\n",
      "n325869575d3c4a2f9443876df2c6556db6 http://www.w3.org/2003/01/geo/wgs84_pos#lat 42.361860\n",
      "https://www.w3.org/People/Berners-Lee/card#i http://xmlns.com/foaf/0.1/givenname Timothy\n",
      "http://dig.csail.mit.edu/breadcrumbs/blog/4 http://purl.org/dc/elements/1.1/title timbl's blog on DIG\n",
      "n325869575d3c4a2f9443876df2c6556db5 http://www.w3.org/2006/vcard/ns#region MA\n",
      "http://www.w3.org/DesignIssues/Overview.html http://xmlns.com/foaf/0.1/maker https://www.w3.org/People/Berners-Lee/card#i\n",
      "https://www.w3.org/People/Berners-Lee/card#i http://www.w3.org/ns/ldp#inbox https://timbl.com/timbl/Public/Inbox\n",
      "http://www.w3.org/People/Berners-Lee/card http://purl.org/dc/elements/1.1/title Tim Berners-Lee's FOAF file\n",
      "https://www.w3.org/People/Berners-Lee/card#i http://www.w3.org/2000/10/swap/pim/contact#homePage http://www.w3.org/People/Berners-Lee/\n",
      "https://www.w3.org/People/Berners-Lee/card#i http://www.w3.org/2000/10/swap/pim/contact#office n325869575d3c4a2f9443876df2c6556db2\n",
      "http://www.w3.org/2011/Talks/0331-hyderabad-tbl/data#talk http://xmlns.com/foaf/0.1/maker https://www.w3.org/People/Berners-Lee/card#i\n",
      "https://timbl.com/timbl/Public/friends.ttl http://www.w3.org/1999/02/22-rdf-syntax-ns#type http://xmlns.com/foaf/0.1/PersonalProfileDocument\n",
      "https://www.w3.org/People/Berners-Lee/card#i http://www.w3.org/2000/01/rdf-schema#seeAlso https://timbl.com/timbl/Public/friends.ttl\n",
      "https://www.w3.org/People/Berners-Lee/card#i http://xmlns.com/foaf/0.1/weblog http://dig.csail.mit.edu/breadcrumbs/blog/4\n",
      "https://www.w3.org/People/Berners-Lee/card#i http://www.w3.org/ns/pim/space#storage https://timbl.solid.community/\n",
      "n325869575d3c4a2f9443876df2c6556db3 http://www.w3.org/2000/10/swap/pim/contact#postalCode 02139\n",
      "https://www.w3.org/People/Berners-Lee/card#i http://www.w3.org/1999/02/22-rdf-syntax-ns#type http://www.w3.org/2000/10/swap/pim/contact#Male\n",
      "https://www.w3.org/People/Berners-Lee/card#i http://www.w3.org/ns/solid/terms#profileBackgroundColor #ffffff\n",
      "https://www.w3.org/People/Berners-Lee/card#i http://xmlns.com/foaf/0.1/title Sir\n",
      "https://www.w3.org/People/Berners-Lee/card#i http://xmlns.com/foaf/0.1/name Timothy Berners-Lee\n",
      "https://www.w3.org/People/Berners-Lee/card#i http://www.w3.org/ns/pim/space#preferencesFile https://timbl.com/timbl/Data/preferences.n3\n",
      "https://www.w3.org/People/Berners-Lee/card#i http://www.w3.org/ns/solid/terms#editableProfile https://timbl.com/timbl/Public/friends.ttl\n",
      "https://www.w3.org/People/Berners-Lee/card#i http://www.w3.org/2000/10/swap/pim/contact#preferredURI https://www.w3.org/People/Berners-Lee/card#i\n",
      "http://www.w3.org/People/Berners-Lee/card http://creativecommons.org/ns#license http://creativecommons.org/licenses/by-nc/3.0/\n",
      "https://www.w3.org/People/Berners-Lee/card#i http://xmlns.com/foaf/0.1/mbox mailto:timbl@w3.org\n",
      "https://www.w3.org/People/Berners-Lee/card#i http://www.w3.org/ns/solid/terms#oidcIssuer https://timbl.com\n",
      "n325869575d3c4a2f9443876df2c6556db1 http://www.w3.org/ns/auth/cert#exponent 65537\n",
      "http://www.w3.org/People/Berners-Lee/card http://www.w3.org/1999/02/22-rdf-syntax-ns#type http://xmlns.com/foaf/0.1/PersonalProfileDocument\n",
      "https://www.w3.org/People/Berners-Lee/card#i http://www.w3.org/ns/solid/terms#profileHighlightColor #00467E\n",
      "https://www.w3.org/People/Berners-Lee/card#i http://www.w3.org/ns/solid/terms#publicTypeIndex https://timbl.com/timbl/Public/PublicTypeIndex.ttl\n",
      "n325869575d3c4a2f9443876df2c6556db4 http://www.w3.org/2003/01/geo/wgs84_pos#long -71.091840\n",
      "n325869575d3c4a2f9443876df2c6556db1 http://www.w3.org/ns/auth/cert#modulus ebe99c737bd3670239600547e5e2eb1d1497da39947b6576c3c44ffeca32cf0f2f7cbee3c47001278a90fc7fc5bcf292f741eb1fcd6bbe7f90650afb519cf13e81b2bffc6e02063ee5a55781d420b1dfaf61c15758480e66d47fb0dcb5fa7b9f7f1052e5ccbd01beee9553c3b6b51f4daf1fce991294cd09a3d1d636bc6c7656e4455d0aff06daec740ed0084aa6866fcae1359de61cc12dbe37c8fa42e977c6e727a8258bb9a3f265b27e3766fe0697f6aa0bcc81c3f026e387bd7bbc81580dc1853af2daa099186a9f59da526474ef6ec0a3d84cf400be3261b6b649dea1f78184862d34d685d2d587f09acc14cd8e578fdd2283387821296f0af39b8d8845\n",
      "https://www.w3.org/People/Berners-Lee/card#i http://xmlns.com/foaf/0.1/mbox_sha1sum 965c47c5a70db7407210cef6e4e6f5374a525c5c\n",
      "https://www.w3.org/People/Berners-Lee/card#i http://xmlns.com/foaf/0.1/account http://en.wikipedia.org/wiki/User:Timbl\n",
      "https://www.w3.org/People/Berners-Lee/card#i http://xmlns.com/foaf/0.1/nick timbl\n",
      "https://timbl.com/timbl/Public/friends.ttl http://xmlns.com/foaf/0.1/maker https://www.w3.org/People/Berners-Lee/card#i\n",
      "n325869575d3c4a2f9443876df2c6556db3 http://www.w3.org/2000/10/swap/pim/contact#country USA\n",
      "http://www.w3.org/DesignIssues/Overview.html http://purl.org/dc/elements/1.1/title Design Issues for the World Wide Web\n",
      "n325869575d3c4a2f9443876df2c6556db3 http://www.w3.org/2000/10/swap/pim/contact#street2 MIT CSAIL Building 32\n",
      "http://dig.csail.mit.edu/data#DIG http://xmlns.com/foaf/0.1/member https://www.w3.org/People/Berners-Lee/card#i\n",
      "http://www.w3.org/2011/Talks/0331-hyderabad-tbl/data#talk http://purl.org/dc/terms/title Designing the Web for an Open Society\n",
      "https://timbl.com/timbl/Public/friends.ttl http://purl.org/dc/elements/1.1/title Tim Berners-Lee's editable profile\n",
      "https://timbl.com/timbl/Public/friends.ttl http://creativecommons.org/ns#license http://creativecommons.org/licenses/by-nc/3.0/\n",
      "https://www.w3.org/People/Berners-Lee/card#i http://xmlns.com/foaf/0.1/based_near n325869575d3c4a2f9443876df2c6556db6\n",
      "https://www.w3.org/People/Berners-Lee/card#i http://www.w3.org/2006/vcard/ns#fn Tim Berners-Lee\n",
      "https://www.w3.org/People/Berners-Lee/card#i http://www.w3.org/ns/pim/space#storage https://timbl.com/timbl/Public/\n",
      "http://www.w3.org/People/Berners-Lee/card#i http://www.w3.org/ns/auth/cert#key n325869575d3c4a2f9443876df2c6556db1\n",
      "http://wiki.ontoworld.org/index.php/_IRW2006 http://purl.org/dc/elements/1.1/title Identity, Reference and the Web workshop 2006\n",
      "https://www.w3.org/People/Berners-Lee/card#i http://xmlns.com/foaf/0.1/homepage https://www.w3.org/People/Berners-Lee/\n",
      "https://www.w3.org/People/Berners-Lee/card#i http://www.w3.org/2000/01/rdf-schema#label Tim Berners-Lee\n",
      "http://www.w3.org/People/Berners-Lee/card http://xmlns.com/foaf/0.1/primaryTopic https://www.w3.org/People/Berners-Lee/card#i\n",
      "n325869575d3c4a2f9443876df2c6556db5 http://www.w3.org/2006/vcard/ns#street-address 32 Vassar Street\n",
      "https://www.w3.org/People/Berners-Lee/card#i http://www.w3.org/ns/pim/space#storage https://timbl.inrupt.net/\n",
      "https://www.w3.org/People/Berners-Lee/card#i http://xmlns.com/foaf/0.1/workplaceHomepage https://www.w3.org/\n",
      "https://www.w3.org/People/Berners-Lee/card#i http://xmlns.com/foaf/0.1/nick TimBL\n",
      "n325869575d3c4a2f9443876df2c6556db3 http://www.w3.org/2000/10/swap/pim/contact#street 32 Vassar Street\n"
     ]
    }
   ],
   "source": [
    "# Create a Graph\n",
    "g = Graph()\n",
    "\n",
    "# Parse in an RDF file hosted on the Internet\n",
    "#g.parse(\"https://makg.org/samples/2018-11-09/Affiliations_s.nt\")\n",
    "g.parse(\"http://www.w3.org/People/Berners-Lee/card\")\n",
    "\n",
    "# Loop through each triple in the graph (subj, pred, obj)\n",
    "for subj, pred, obj in g:\n",
    "    # Check if there is at least one triple in the Graph\n",
    "    if (subj, pred, obj) not in g:\n",
    "       raise Exception(\"No triple found!\")\n",
    "    else:\n",
    "       print(subj, pred, obj)"
   ]
  },
  {
   "cell_type": "code",
   "execution_count": null,
   "metadata": {},
   "outputs": [
    {
     "name": "stdout",
     "output_type": "stream",
     "text": [
      "Graph g has 86 statements.\n"
     ]
    }
   ],
   "source": [
    "g.serialize(destination=\"test.ttl\", format=\"turtle\")\n",
    "\n",
    "g = Graph()\n",
    "g.parse(\"test.ttl\")\n",
    "print(f\"Graph g has {len(g)} statements.\")"
   ]
  }
 ],
 "metadata": {
  "kernelspec": {
   "display_name": "Python 3.8.15 ('KGCBF-cQLkdcMc')",
   "language": "python",
   "name": "python3"
  },
  "language_info": {
   "codemirror_mode": {
    "name": "ipython",
    "version": 3
   },
   "file_extension": ".py",
   "mimetype": "text/x-python",
   "name": "python",
   "nbconvert_exporter": "python",
   "pygments_lexer": "ipython3",
   "version": "3.8.15"
  },
  "vscode": {
   "interpreter": {
    "hash": "f8bfd446e2a19bd040c95f5f5a15a05621c0560a00fa151173051a38d1940c30"
   }
  }
 },
 "nbformat": 4,
 "nbformat_minor": 4
}
